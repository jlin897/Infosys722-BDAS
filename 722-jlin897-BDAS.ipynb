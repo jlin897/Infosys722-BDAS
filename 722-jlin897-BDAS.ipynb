{
 "cells": [
  {
   "cell_type": "code",
   "execution_count": 3,
   "metadata": {},
   "outputs": [],
   "source": [
    "import findspark\n",
    "findspark.init('/home/ubuntu/spark-2.1.1-bin-hadoop2.7')\n",
    "import pyspark\n",
    "from pyspark.sql import SparkSession\n",
    "spark = SparkSession.builder.appName('BDAS_jlin897').getOrCreate()"
   ]
  },
  {
   "cell_type": "code",
   "execution_count": 4,
   "metadata": {},
   "outputs": [],
   "source": [
    "# read all the csv file\n",
    "#all_csv_path = '*.csv'\n",
    "#accident =  spark.read.format('csv')\\\n",
    "#   .option('header', 'true')\\\n",
    "#    .option('inferSchema', 'true')\\\n",
    "#    .load(all_csv_path)\n",
    "\n",
    "\n",
    "accident = spark.read.csv(\"accidents_2012_to_2014.csv\", header=True, inferSchema= True) "
   ]
  },
  {
   "cell_type": "code",
   "execution_count": 5,
   "metadata": {},
   "outputs": [
    {
     "name": "stdout",
     "output_type": "stream",
     "text": [
      "464697\n",
      "['Accident_Index', 'Location_Easting_OSGR', 'Location_Northing_OSGR', 'Longitude', 'Latitude', 'Police_Force', 'Accident_Severity', 'Number_of_Vehicles', 'Number_of_Casualties', 'Date', 'Day_of_Week', 'Time', 'Local_Authority_(District)', 'Local_Authority_(Highway)', '1st_Road_Class', '1st_Road_Number', 'Road_Type', 'Speed_limit', 'Junction_Detail', 'Junction_Control', '2nd_Road_Class', '2nd_Road_Number', 'Pedestrian_Crossing-Human_Control', 'Pedestrian_Crossing-Physical_Facilities', 'Light_Conditions', 'Weather_Conditions', 'Road_Surface_Conditions', 'Special_Conditions_at_Site', 'Carriageway_Hazards', 'Urban_or_Rural_Area', 'Did_Police_Officer_Attend_Scene_of_Accident', 'LSOA_of_Accident_Location', 'Year']\n",
      "[('Accident_Index', 'string'), ('Location_Easting_OSGR', 'int'), ('Location_Northing_OSGR', 'int'), ('Longitude', 'double'), ('Latitude', 'double'), ('Police_Force', 'int'), ('Accident_Severity', 'int'), ('Number_of_Vehicles', 'int'), ('Number_of_Casualties', 'int'), ('Date', 'string'), ('Day_of_Week', 'int'), ('Time', 'string'), ('Local_Authority_(District)', 'int'), ('Local_Authority_(Highway)', 'string'), ('1st_Road_Class', 'int'), ('1st_Road_Number', 'int'), ('Road_Type', 'string'), ('Speed_limit', 'int'), ('Junction_Detail', 'string'), ('Junction_Control', 'string'), ('2nd_Road_Class', 'int'), ('2nd_Road_Number', 'int'), ('Pedestrian_Crossing-Human_Control', 'string'), ('Pedestrian_Crossing-Physical_Facilities', 'string'), ('Light_Conditions', 'string'), ('Weather_Conditions', 'string'), ('Road_Surface_Conditions', 'string'), ('Special_Conditions_at_Site', 'string'), ('Carriageway_Hazards', 'string'), ('Urban_or_Rural_Area', 'int'), ('Did_Police_Officer_Attend_Scene_of_Accident', 'string'), ('LSOA_of_Accident_Location', 'string'), ('Year', 'int')]\n"
     ]
    }
   ],
   "source": [
    "print(accident.count())\n",
    "print(accident.columns)\n",
    "print(accident.dtypes)\n"
   ]
  },
  {
   "cell_type": "code",
   "execution_count": 6,
   "metadata": {},
   "outputs": [
    {
     "name": "stdout",
     "output_type": "stream",
     "text": [
      "+-------+-------------------+\n",
      "|summary|  Accident_Severity|\n",
      "+-------+-------------------+\n",
      "|  count|             464697|\n",
      "|   mean| 2.8334613737553718|\n",
      "| stddev|0.40202902164685816|\n",
      "|    min|                  1|\n",
      "|    max|                  3|\n",
      "+-------+-------------------+\n",
      "\n",
      "None\n"
     ]
    }
   ],
   "source": [
    "print(accident[[\"Accident_Severity\"]].describe().show())\n"
   ]
  },
  {
   "cell_type": "code",
   "execution_count": 7,
   "metadata": {},
   "outputs": [
    {
     "name": "stdout",
     "output_type": "stream",
     "text": [
      "+-------+------------------+\n",
      "|summary|       Day_of_Week|\n",
      "+-------+------------------+\n",
      "|  count|            464697|\n",
      "|   mean| 4.108739673378567|\n",
      "| stddev|1.9164285644856303|\n",
      "|    min|                 1|\n",
      "|    max|                 7|\n",
      "+-------+------------------+\n",
      "\n",
      "None\n"
     ]
    }
   ],
   "source": [
    "print(accident[[\"Day_of_Week\"]].describe().show())"
   ]
  },
  {
   "cell_type": "code",
   "execution_count": 8,
   "metadata": {},
   "outputs": [],
   "source": [
    "import pandas as pd\n",
    "from pyspark.ml.classification import (RandomForestClassifier, GBTClassifier, DecisionTreeClassifier)\n",
    "\n",
    "pd.set_option('display.max_rows', None)\n",
    "accident = pd.read_csv(\"accidents_2012_to_2014.csv\",low_memory=False)\n"
   ]
  },
  {
   "cell_type": "code",
   "execution_count": 9,
   "metadata": {},
   "outputs": [
    {
     "name": "stdout",
     "output_type": "stream",
     "text": [
      "Columns in this data sets are: \n",
      "Index(['Accident_Index', 'Location_Easting_OSGR', 'Location_Northing_OSGR',\n",
      "       'Longitude', 'Latitude', 'Police_Force', 'Accident_Severity',\n",
      "       'Number_of_Vehicles', 'Number_of_Casualties', 'Date', 'Day_of_Week',\n",
      "       'Time', 'Local_Authority_(District)', 'Local_Authority_(Highway)',\n",
      "       '1st_Road_Class', '1st_Road_Number', 'Road_Type', 'Speed_limit',\n",
      "       'Junction_Detail', 'Junction_Control', '2nd_Road_Class',\n",
      "       '2nd_Road_Number', 'Pedestrian_Crossing-Human_Control',\n",
      "       'Pedestrian_Crossing-Physical_Facilities', 'Light_Conditions',\n",
      "       'Weather_Conditions', 'Road_Surface_Conditions',\n",
      "       'Special_Conditions_at_Site', 'Carriageway_Hazards',\n",
      "       'Urban_or_Rural_Area', 'Did_Police_Officer_Attend_Scene_of_Accident',\n",
      "       'LSOA_of_Accident_Location', 'Year'],\n",
      "      dtype='object')\n"
     ]
    }
   ],
   "source": [
    "print(\"Columns in this data sets are: \")\n",
    "print(accident.columns)"
   ]
  },
  {
   "cell_type": "code",
   "execution_count": 10,
   "metadata": {},
   "outputs": [
    {
     "name": "stdout",
     "output_type": "stream",
     "text": [
      "                                                                             column_name  \\\n",
      "Accident_Index                                                            Accident_Index   \n",
      "Location_Easting_OSGR                                              Location_Easting_OSGR   \n",
      "Location_Northing_OSGR                                            Location_Northing_OSGR   \n",
      "Longitude                                                                      Longitude   \n",
      "Latitude                                                                        Latitude   \n",
      "Police_Force                                                                Police_Force   \n",
      "Accident_Severity                                                      Accident_Severity   \n",
      "Number_of_Vehicles                                                    Number_of_Vehicles   \n",
      "Number_of_Casualties                                                Number_of_Casualties   \n",
      "Date                                                                                Date   \n",
      "Day_of_Week                                                                  Day_of_Week   \n",
      "Time                                                                                Time   \n",
      "Local_Authority_(District)                                    Local_Authority_(District)   \n",
      "Local_Authority_(Highway)                                      Local_Authority_(Highway)   \n",
      "1st_Road_Class                                                            1st_Road_Class   \n",
      "1st_Road_Number                                                          1st_Road_Number   \n",
      "Road_Type                                                                      Road_Type   \n",
      "Speed_limit                                                                  Speed_limit   \n",
      "Junction_Detail                                                          Junction_Detail   \n",
      "Junction_Control                                                        Junction_Control   \n",
      "2nd_Road_Class                                                            2nd_Road_Class   \n",
      "2nd_Road_Number                                                          2nd_Road_Number   \n",
      "Pedestrian_Crossing-Human_Control                      Pedestrian_Crossing-Human_Control   \n",
      "Pedestrian_Crossing-Physical_Facilities          Pedestrian_Crossing-Physical_Facilities   \n",
      "Light_Conditions                                                        Light_Conditions   \n",
      "Weather_Conditions                                                    Weather_Conditions   \n",
      "Road_Surface_Conditions                                          Road_Surface_Conditions   \n",
      "Special_Conditions_at_Site                                    Special_Conditions_at_Site   \n",
      "Carriageway_Hazards                                                  Carriageway_Hazards   \n",
      "Urban_or_Rural_Area                                                  Urban_or_Rural_Area   \n",
      "Did_Police_Officer_Attend_Scene_of_Accident  Did_Police_Officer_Attend_Scene_of_Accident   \n",
      "LSOA_of_Accident_Location                                      LSOA_of_Accident_Location   \n",
      "Year                                                                                Year   \n",
      "\n",
      "                                             percent_missing  \n",
      "Accident_Index                                      0.000000  \n",
      "Location_Easting_OSGR                               0.000000  \n",
      "Location_Northing_OSGR                              0.000000  \n",
      "Longitude                                           0.000000  \n",
      "Latitude                                            0.000000  \n",
      "Police_Force                                        0.000000  \n",
      "Accident_Severity                                   0.000000  \n",
      "Number_of_Vehicles                                  0.000000  \n",
      "Number_of_Casualties                                0.000000  \n",
      "Date                                                0.000000  \n",
      "Day_of_Week                                         0.000000  \n",
      "Time                                                0.002798  \n",
      "Local_Authority_(District)                          0.000000  \n",
      "Local_Authority_(Highway)                           0.000000  \n",
      "1st_Road_Class                                      0.000000  \n",
      "1st_Road_Number                                     0.000000  \n",
      "Road_Type                                           0.000000  \n",
      "Speed_limit                                         0.000000  \n",
      "Junction_Detail                                   100.000000  \n",
      "Junction_Control                                   38.435798  \n",
      "2nd_Road_Class                                      0.000000  \n",
      "2nd_Road_Number                                     0.000000  \n",
      "Pedestrian_Crossing-Human_Control                   0.000000  \n",
      "Pedestrian_Crossing-Physical_Facilities             0.000000  \n",
      "Light_Conditions                                    0.000000  \n",
      "Weather_Conditions                                  0.000000  \n",
      "Road_Surface_Conditions                             0.162471  \n",
      "Special_Conditions_at_Site                          0.000430  \n",
      "Carriageway_Hazards                                 0.000646  \n",
      "Urban_or_Rural_Area                                 0.000000  \n",
      "Did_Police_Officer_Attend_Scene_of_Accident         0.000430  \n",
      "LSOA_of_Accident_Location                           6.179941  \n",
      "Year                                                0.000000  \n",
      "The dimension of the traffic accident 2012 to 2014 dataset is 463942 rows and 33 columns.\n"
     ]
    }
   ],
   "source": [
    "accident_missing = accident.isnull().sum() * 100 / len(accident)\n",
    "accident_missing_value_df = pd.DataFrame({'column_name': accident.columns,'percent_missing':accident_missing})\n",
    "print(accident_missing_value_df)\n",
    "\n",
    "accident_current = accident[accident[\"Road_Surface_Conditions\"].notnull() &\n",
    "                            (accident[\"Weather_Conditions\"].notnull())]\n",
    "print(\"The dimension of the traffic accident 2012 to 2014 dataset is \"+ str(accident_current.shape[0]) + \n",
    "      \" rows and \" + str(accident_current.shape[1]) + \" columns.\")"
   ]
  },
  {
   "cell_type": "code",
   "execution_count": 11,
   "metadata": {},
   "outputs": [
    {
     "name": "stdout",
     "output_type": "stream",
     "text": [
      "0\n"
     ]
    }
   ],
   "source": [
    "accident_current.groupby(by=\"Road_Surface_Conditions\").size()\n",
    "print(accident_current[\"Road_Surface_Conditions\"].isnull().sum(axis=0))"
   ]
  },
  {
   "cell_type": "code",
   "execution_count": 12,
   "metadata": {},
   "outputs": [
    {
     "name": "stdout",
     "output_type": "stream",
     "text": [
      "0\n"
     ]
    }
   ],
   "source": [
    "accident_current.groupby(by=\"Weather_Conditions\").size()\n",
    "print(accident_current[\"Weather_Conditions\"].isnull().sum(axis=0))"
   ]
  },
  {
   "cell_type": "code",
   "execution_count": 13,
   "metadata": {},
   "outputs": [
    {
     "name": "stdout",
     "output_type": "stream",
     "text": [
      "                                                                             column_name  \\\n",
      "Accident_Index                                                            Accident_Index   \n",
      "Location_Easting_OSGR                                              Location_Easting_OSGR   \n",
      "Location_Northing_OSGR                                            Location_Northing_OSGR   \n",
      "Longitude                                                                      Longitude   \n",
      "Latitude                                                                        Latitude   \n",
      "Police_Force                                                                Police_Force   \n",
      "Accident_Severity                                                      Accident_Severity   \n",
      "Number_of_Vehicles                                                    Number_of_Vehicles   \n",
      "Number_of_Casualties                                                Number_of_Casualties   \n",
      "Date                                                                                Date   \n",
      "Day_of_Week                                                                  Day_of_Week   \n",
      "Time                                                                                Time   \n",
      "Local_Authority_(District)                                    Local_Authority_(District)   \n",
      "Local_Authority_(Highway)                                      Local_Authority_(Highway)   \n",
      "1st_Road_Class                                                            1st_Road_Class   \n",
      "1st_Road_Number                                                          1st_Road_Number   \n",
      "Road_Type                                                                      Road_Type   \n",
      "Speed_limit                                                                  Speed_limit   \n",
      "Junction_Detail                                                          Junction_Detail   \n",
      "Junction_Control                                                        Junction_Control   \n",
      "2nd_Road_Class                                                            2nd_Road_Class   \n",
      "2nd_Road_Number                                                          2nd_Road_Number   \n",
      "Pedestrian_Crossing-Human_Control                      Pedestrian_Crossing-Human_Control   \n",
      "Pedestrian_Crossing-Physical_Facilities          Pedestrian_Crossing-Physical_Facilities   \n",
      "Light_Conditions                                                        Light_Conditions   \n",
      "Weather_Conditions                                                    Weather_Conditions   \n",
      "Road_Surface_Conditions                                          Road_Surface_Conditions   \n",
      "Special_Conditions_at_Site                                    Special_Conditions_at_Site   \n",
      "Carriageway_Hazards                                                  Carriageway_Hazards   \n",
      "Urban_or_Rural_Area                                                  Urban_or_Rural_Area   \n",
      "Did_Police_Officer_Attend_Scene_of_Accident  Did_Police_Officer_Attend_Scene_of_Accident   \n",
      "LSOA_of_Accident_Location                                      LSOA_of_Accident_Location   \n",
      "Year                                                                                Year   \n",
      "\n",
      "                                             percent_missing  \n",
      "Accident_Index                                      0.000000  \n",
      "Location_Easting_OSGR                               0.000000  \n",
      "Location_Northing_OSGR                              0.000000  \n",
      "Longitude                                           0.000000  \n",
      "Latitude                                            0.000000  \n",
      "Police_Force                                        0.000000  \n",
      "Accident_Severity                                   0.000000  \n",
      "Number_of_Vehicles                                  0.000000  \n",
      "Number_of_Casualties                                0.000000  \n",
      "Date                                                0.000000  \n",
      "Day_of_Week                                         0.000000  \n",
      "Time                                                0.002802  \n",
      "Local_Authority_(District)                          0.000000  \n",
      "Local_Authority_(Highway)                           0.000000  \n",
      "1st_Road_Class                                      0.000000  \n",
      "1st_Road_Number                                     0.000000  \n",
      "Road_Type                                           0.000000  \n",
      "Speed_limit                                         0.000000  \n",
      "Junction_Detail                                   100.000000  \n",
      "Junction_Control                                   38.433037  \n",
      "2nd_Road_Class                                      0.000000  \n",
      "2nd_Road_Number                                     0.000000  \n",
      "Pedestrian_Crossing-Human_Control                   0.000000  \n",
      "Pedestrian_Crossing-Physical_Facilities             0.000000  \n",
      "Light_Conditions                                    0.000000  \n",
      "Weather_Conditions                                  0.000000  \n",
      "Road_Surface_Conditions                             0.000000  \n",
      "Special_Conditions_at_Site                          0.000216  \n",
      "Carriageway_Hazards                                 0.000431  \n",
      "Urban_or_Rural_Area                                 0.000000  \n",
      "Did_Police_Officer_Attend_Scene_of_Accident         0.000216  \n",
      "LSOA_of_Accident_Location                           6.187196  \n",
      "Year                                                0.000000  \n"
     ]
    }
   ],
   "source": [
    "accident_current_missing = accident_current.isnull().sum() * 100 / len(accident_current)\n",
    "accident_missing_value_df = pd.DataFrame({'column_name': accident_current.columns,'percent_missing':accident_current_missing})\n",
    "print(accident_missing_value_df)\n",
    "\n"
   ]
  },
  {
   "cell_type": "code",
   "execution_count": 27,
   "metadata": {},
   "outputs": [
    {
     "name": "stdout",
     "output_type": "stream",
     "text": [
      "Junction_Control\n",
      "Authorised person              676\n",
      "Automatic traffic signal     50124\n",
      "Giveway or uncontrolled     232549\n",
      "Stop Sign                     2286\n",
      "dtype: int64\n",
      "178307\n"
     ]
    }
   ],
   "source": [
    "print(accident_current.groupby(by=\"Junction_Control\").size())\n",
    "print(accident_current[\"Junction_Control\"].isnull().sum(axis=0))"
   ]
  },
  {
   "cell_type": "code",
   "execution_count": 12,
   "metadata": {},
   "outputs": [
    {
     "name": "stdout",
     "output_type": "stream",
     "text": [
      "Index(['Police_Force', 'Accident_Severity', 'Number_of_Vehicles',\n",
      "       'Number_of_Casualties', 'Date', 'Day_of_Week', 'Time', 'Road_Type',\n",
      "       'Speed_limit', 'Light_Conditions', 'Weather_Conditions',\n",
      "       'Road_Surface_Conditions', 'Urban_or_Rural_Area'],\n",
      "      dtype='object')\n",
      "                                     column_name  percent_missing\n",
      "Police_Force                        Police_Force         0.000000\n",
      "Accident_Severity              Accident_Severity         0.000000\n",
      "Number_of_Vehicles            Number_of_Vehicles         0.000000\n",
      "Number_of_Casualties        Number_of_Casualties         0.000000\n",
      "Date                                        Date         0.000000\n",
      "Day_of_Week                          Day_of_Week         0.000000\n",
      "Time                                        Time         0.002802\n",
      "Road_Type                              Road_Type         0.000000\n",
      "Speed_limit                          Speed_limit         0.000000\n",
      "Light_Conditions                Light_Conditions         0.000000\n",
      "Weather_Conditions            Weather_Conditions         0.000000\n",
      "Road_Surface_Conditions  Road_Surface_Conditions         0.000000\n",
      "Urban_or_Rural_Area          Urban_or_Rural_Area         0.000000\n"
     ]
    }
   ],
   "source": [
    "valid_cols = [\"Police_Force\",\"Accident_Severity\",\"Number_of_Vehicles\",\"Number_of_Casualties\",\n",
    "             \"Date\",\"Day_of_Week\",\"Time\",\"Road_Type\",\"Speed_limit\",\"Light_Conditions\",\n",
    "             \"Weather_Conditions\",\"Road_Surface_Conditions\",\"Urban_or_Rural_Area\"]\n",
    "\n",
    "\n",
    "accident_current = accident_current[valid_cols]\n",
    "print(accident_current.columns)\n",
    "accident_current_missing = accident_current.isnull().sum() * 100 / len(accident_current)\n",
    "accident_missing_value_df = pd.DataFrame({'column_name': accident_current.columns,'percent_missing':accident_current_missing})\n",
    "print(accident_missing_value_df)"
   ]
  },
  {
   "cell_type": "code",
   "execution_count": 13,
   "metadata": {},
   "outputs": [
    {
     "name": "stdout",
     "output_type": "stream",
     "text": [
      "13\n",
      "(463929, 13)\n"
     ]
    }
   ],
   "source": [
    "print(accident[\"Time\"].isnull().sum(axis=0))\n",
    "accident_current.dropna(inplace=True)\n",
    "accident_current[\"Time\"].isnull().sum(axis=0)\n",
    "print(accident_current.shape)"
   ]
  },
  {
   "cell_type": "code",
   "execution_count": 14,
   "metadata": {},
   "outputs": [
    {
     "data": {
      "text/html": [
       "<div>\n",
       "<style scoped>\n",
       "    .dataframe tbody tr th:only-of-type {\n",
       "        vertical-align: middle;\n",
       "    }\n",
       "\n",
       "    .dataframe tbody tr th {\n",
       "        vertical-align: top;\n",
       "    }\n",
       "\n",
       "    .dataframe thead th {\n",
       "        text-align: right;\n",
       "    }\n",
       "</style>\n",
       "<table border=\"1\" class=\"dataframe\">\n",
       "  <thead>\n",
       "    <tr style=\"text-align: right;\">\n",
       "      <th></th>\n",
       "      <th>Police_Force</th>\n",
       "      <th>Accident_Severity</th>\n",
       "      <th>Number_of_Vehicles</th>\n",
       "      <th>Number_of_Casualties</th>\n",
       "      <th>Date</th>\n",
       "      <th>Day_of_Week</th>\n",
       "      <th>Time</th>\n",
       "      <th>Road_Type</th>\n",
       "      <th>Speed_limit</th>\n",
       "      <th>Light_Conditions</th>\n",
       "      <th>Road_Surface_Conditions</th>\n",
       "      <th>Urban_or_Rural_Area</th>\n",
       "    </tr>\n",
       "    <tr>\n",
       "      <th>Weather_Conditions</th>\n",
       "      <th></th>\n",
       "      <th></th>\n",
       "      <th></th>\n",
       "      <th></th>\n",
       "      <th></th>\n",
       "      <th></th>\n",
       "      <th></th>\n",
       "      <th></th>\n",
       "      <th></th>\n",
       "      <th></th>\n",
       "      <th></th>\n",
       "      <th></th>\n",
       "    </tr>\n",
       "  </thead>\n",
       "  <tbody>\n",
       "    <tr>\n",
       "      <th>Fine with high winds</th>\n",
       "      <td>5008</td>\n",
       "      <td>5008</td>\n",
       "      <td>5008</td>\n",
       "      <td>5008</td>\n",
       "      <td>5008</td>\n",
       "      <td>5008</td>\n",
       "      <td>5008</td>\n",
       "      <td>5008</td>\n",
       "      <td>5008</td>\n",
       "      <td>5008</td>\n",
       "      <td>5008</td>\n",
       "      <td>5008</td>\n",
       "    </tr>\n",
       "    <tr>\n",
       "      <th>Fine without high winds</th>\n",
       "      <td>372985</td>\n",
       "      <td>372985</td>\n",
       "      <td>372985</td>\n",
       "      <td>372985</td>\n",
       "      <td>372985</td>\n",
       "      <td>372985</td>\n",
       "      <td>372985</td>\n",
       "      <td>372985</td>\n",
       "      <td>372985</td>\n",
       "      <td>372985</td>\n",
       "      <td>372985</td>\n",
       "      <td>372985</td>\n",
       "    </tr>\n",
       "    <tr>\n",
       "      <th>Fog or mist</th>\n",
       "      <td>2408</td>\n",
       "      <td>2408</td>\n",
       "      <td>2408</td>\n",
       "      <td>2408</td>\n",
       "      <td>2408</td>\n",
       "      <td>2408</td>\n",
       "      <td>2408</td>\n",
       "      <td>2408</td>\n",
       "      <td>2408</td>\n",
       "      <td>2408</td>\n",
       "      <td>2408</td>\n",
       "      <td>2408</td>\n",
       "    </tr>\n",
       "    <tr>\n",
       "      <th>Other</th>\n",
       "      <td>8247</td>\n",
       "      <td>8247</td>\n",
       "      <td>8247</td>\n",
       "      <td>8247</td>\n",
       "      <td>8247</td>\n",
       "      <td>8247</td>\n",
       "      <td>8247</td>\n",
       "      <td>8247</td>\n",
       "      <td>8247</td>\n",
       "      <td>8247</td>\n",
       "      <td>8247</td>\n",
       "      <td>8247</td>\n",
       "    </tr>\n",
       "    <tr>\n",
       "      <th>Raining with high winds</th>\n",
       "      <td>7119</td>\n",
       "      <td>7119</td>\n",
       "      <td>7119</td>\n",
       "      <td>7119</td>\n",
       "      <td>7119</td>\n",
       "      <td>7119</td>\n",
       "      <td>7119</td>\n",
       "      <td>7119</td>\n",
       "      <td>7119</td>\n",
       "      <td>7119</td>\n",
       "      <td>7119</td>\n",
       "      <td>7119</td>\n",
       "    </tr>\n",
       "    <tr>\n",
       "      <th>Raining without high winds</th>\n",
       "      <td>57054</td>\n",
       "      <td>57054</td>\n",
       "      <td>57054</td>\n",
       "      <td>57054</td>\n",
       "      <td>57054</td>\n",
       "      <td>57054</td>\n",
       "      <td>57054</td>\n",
       "      <td>57054</td>\n",
       "      <td>57054</td>\n",
       "      <td>57054</td>\n",
       "      <td>57054</td>\n",
       "      <td>57054</td>\n",
       "    </tr>\n",
       "    <tr>\n",
       "      <th>Snowing with high winds</th>\n",
       "      <td>733</td>\n",
       "      <td>733</td>\n",
       "      <td>733</td>\n",
       "      <td>733</td>\n",
       "      <td>733</td>\n",
       "      <td>733</td>\n",
       "      <td>733</td>\n",
       "      <td>733</td>\n",
       "      <td>733</td>\n",
       "      <td>733</td>\n",
       "      <td>733</td>\n",
       "      <td>733</td>\n",
       "    </tr>\n",
       "    <tr>\n",
       "      <th>Snowing without high winds</th>\n",
       "      <td>2707</td>\n",
       "      <td>2707</td>\n",
       "      <td>2707</td>\n",
       "      <td>2707</td>\n",
       "      <td>2707</td>\n",
       "      <td>2707</td>\n",
       "      <td>2707</td>\n",
       "      <td>2707</td>\n",
       "      <td>2707</td>\n",
       "      <td>2707</td>\n",
       "      <td>2707</td>\n",
       "      <td>2707</td>\n",
       "    </tr>\n",
       "    <tr>\n",
       "      <th>Unknown</th>\n",
       "      <td>7668</td>\n",
       "      <td>7668</td>\n",
       "      <td>7668</td>\n",
       "      <td>7668</td>\n",
       "      <td>7668</td>\n",
       "      <td>7668</td>\n",
       "      <td>7668</td>\n",
       "      <td>7668</td>\n",
       "      <td>7668</td>\n",
       "      <td>7668</td>\n",
       "      <td>7668</td>\n",
       "      <td>7668</td>\n",
       "    </tr>\n",
       "  </tbody>\n",
       "</table>\n",
       "</div>"
      ],
      "text/plain": [
       "                            Police_Force  Accident_Severity  \\\n",
       "Weather_Conditions                                            \n",
       "Fine with high winds                5008               5008   \n",
       "Fine without high winds           372985             372985   \n",
       "Fog or mist                         2408               2408   \n",
       "Other                               8247               8247   \n",
       "Raining with high winds             7119               7119   \n",
       "Raining without high winds         57054              57054   \n",
       "Snowing with high winds              733                733   \n",
       "Snowing without high winds          2707               2707   \n",
       "Unknown                             7668               7668   \n",
       "\n",
       "                            Number_of_Vehicles  Number_of_Casualties    Date  \\\n",
       "Weather_Conditions                                                             \n",
       "Fine with high winds                      5008                  5008    5008   \n",
       "Fine without high winds                 372985                372985  372985   \n",
       "Fog or mist                               2408                  2408    2408   \n",
       "Other                                     8247                  8247    8247   \n",
       "Raining with high winds                   7119                  7119    7119   \n",
       "Raining without high winds               57054                 57054   57054   \n",
       "Snowing with high winds                    733                   733     733   \n",
       "Snowing without high winds                2707                  2707    2707   \n",
       "Unknown                                   7668                  7668    7668   \n",
       "\n",
       "                            Day_of_Week    Time  Road_Type  Speed_limit  \\\n",
       "Weather_Conditions                                                        \n",
       "Fine with high winds               5008    5008       5008         5008   \n",
       "Fine without high winds          372985  372985     372985       372985   \n",
       "Fog or mist                        2408    2408       2408         2408   \n",
       "Other                              8247    8247       8247         8247   \n",
       "Raining with high winds            7119    7119       7119         7119   \n",
       "Raining without high winds        57054   57054      57054        57054   \n",
       "Snowing with high winds             733     733        733          733   \n",
       "Snowing without high winds         2707    2707       2707         2707   \n",
       "Unknown                            7668    7668       7668         7668   \n",
       "\n",
       "                            Light_Conditions  Road_Surface_Conditions  \\\n",
       "Weather_Conditions                                                      \n",
       "Fine with high winds                    5008                     5008   \n",
       "Fine without high winds               372985                   372985   \n",
       "Fog or mist                             2408                     2408   \n",
       "Other                                   8247                     8247   \n",
       "Raining with high winds                 7119                     7119   \n",
       "Raining without high winds             57054                    57054   \n",
       "Snowing with high winds                  733                      733   \n",
       "Snowing without high winds              2707                     2707   \n",
       "Unknown                                 7668                     7668   \n",
       "\n",
       "                            Urban_or_Rural_Area  \n",
       "Weather_Conditions                               \n",
       "Fine with high winds                       5008  \n",
       "Fine without high winds                  372985  \n",
       "Fog or mist                                2408  \n",
       "Other                                      8247  \n",
       "Raining with high winds                    7119  \n",
       "Raining without high winds                57054  \n",
       "Snowing with high winds                     733  \n",
       "Snowing without high winds                 2707  \n",
       "Unknown                                    7668  "
      ]
     },
     "execution_count": 14,
     "metadata": {},
     "output_type": "execute_result"
    }
   ],
   "source": [
    "accident_current.groupby(by=\"Weather_Conditions\").count()"
   ]
  },
  {
   "cell_type": "code",
   "execution_count": 15,
   "metadata": {},
   "outputs": [
    {
     "name": "stdout",
     "output_type": "stream",
     "text": [
      "(448014, 13)\n",
      "Police_Force               0\n",
      "Accident_Severity          0\n",
      "Number_of_Vehicles         0\n",
      "Number_of_Casualties       0\n",
      "Date                       0\n",
      "Day_of_Week                0\n",
      "Time                       0\n",
      "Road_Type                  0\n",
      "Speed_limit                0\n",
      "Light_Conditions           0\n",
      "Weather_Conditions         0\n",
      "Road_Surface_Conditions    0\n",
      "Urban_or_Rural_Area        0\n",
      "dtype: int64\n"
     ]
    }
   ],
   "source": [
    "# select rows\n",
    "accident_current = accident_current[accident_current[\"Weather_Conditions\"] != \"Other\"]\n",
    "accident_current = accident_current[accident_current[\"Weather_Conditions\"] != \"Unknown\"]\n",
    "print(accident_current.shape)\n",
    "print(accident_current.isnull().sum(axis=0))"
   ]
  },
  {
   "cell_type": "code",
   "execution_count": 16,
   "metadata": {},
   "outputs": [
    {
     "name": "stdout",
     "output_type": "stream",
     "text": [
      "False    399498\n",
      "True      48516\n",
      "Name: Weekend, dtype: int64\n"
     ]
    }
   ],
   "source": [
    "# construct data\n",
    "import matplotlib.pyplot as plt\n",
    "\n",
    "accident_current[\"Weekend\"] = accident_current[\"Day_of_Week\"] == 1 | (accident_current[\"Day_of_Week\"] ==7)\n",
    "print(accident_current[\"Weekend\"].value_counts())\n"
   ]
  },
  {
   "cell_type": "code",
   "execution_count": 17,
   "metadata": {},
   "outputs": [
    {
     "name": "stdout",
     "output_type": "stream",
     "text": [
      "False    437314\n",
      "True      10700\n",
      "Name: Night, dtype: int64\n"
     ]
    }
   ],
   "source": [
    "accident_current[\"Night\"] = pd.to_datetime(accident_current[\"Time\"]).dt.hour <= 6 |(pd.to_datetime(accident_current[\"Time\"]).dt.hour >=19)\n",
    "print(accident_current[\"Night\"].value_counts())"
   ]
  },
  {
   "cell_type": "code",
   "execution_count": 18,
   "metadata": {},
   "outputs": [
    {
     "name": "stdout",
     "output_type": "stream",
     "text": [
      "0    442827\n",
      "1      5187\n",
      "Name: Severity1, dtype: int64\n",
      "resampled data: 1    10000\n",
      "0    10000\n",
      "Name: Severity1, dtype: int64\n"
     ]
    }
   ],
   "source": [
    "accident_current['Severity1'] = 0\n",
    "accident_current.loc[accident_current['Accident_Severity'] == 1, 'Severity1'] = 1\n",
    "print(accident_current.Severity1.value_counts())\n",
    "accident_current = accident_current.drop(['Accident_Severity'], axis = 1)\n",
    "\n",
    "accident_current = pd.concat([accident_current[accident_current['Severity1']==1].sample(10000, replace = True),\n",
    "                             accident_current[accident_current['Severity1']==0].sample(10000,replace=False)], axis=0)\n",
    "print('resampled data:', accident_current.Severity1.value_counts())\n"
   ]
  },
  {
   "cell_type": "code",
   "execution_count": 35,
   "metadata": {},
   "outputs": [
    {
     "data": {
      "text/plain": [
       "Road_Type                  object\n",
       "Speed_limit                 int64\n",
       "Light_Conditions           object\n",
       "Weather_Conditions         object\n",
       "Road_Surface_Conditions    object\n",
       "Urban_or_Rural_Area         int64\n",
       "Weekend                     int64\n",
       "Night                       int64\n",
       "Severity1                   int64\n",
       "dtype: object"
      ]
     },
     "execution_count": 35,
     "metadata": {},
     "output_type": "execute_result"
    }
   ],
   "source": [
    "columns = accident_current.columns.tolist()\n",
    "columns = [c for c in columns if c not in[\"Accident_Severity\",\"Police_Force\",\"Number_of_Vehicles\",\n",
    "                                          \"Number_of_Casualties\",\"Date\",\"Day_of_Week\",\"Time\"]]\n",
    "target = \"Severity1\"\n",
    "\n",
    "accident_current = accident_current[columns]\n",
    "accident_current.dtypes"
   ]
  },
  {
   "cell_type": "code",
   "execution_count": 20,
   "metadata": {},
   "outputs": [],
   "source": [
    "accident_current[\"Weekend\"] = accident_current[\"Weekend\"]*1\n",
    "accident_current[\"Night\"] = accident_current[\"Night\"]*1"
   ]
  },
  {
   "cell_type": "code",
   "execution_count": 21,
   "metadata": {},
   "outputs": [
    {
     "data": {
      "text/html": [
       "<div>\n",
       "<style scoped>\n",
       "    .dataframe tbody tr th:only-of-type {\n",
       "        vertical-align: middle;\n",
       "    }\n",
       "\n",
       "    .dataframe tbody tr th {\n",
       "        vertical-align: top;\n",
       "    }\n",
       "\n",
       "    .dataframe thead th {\n",
       "        text-align: right;\n",
       "    }\n",
       "</style>\n",
       "<table border=\"1\" class=\"dataframe\">\n",
       "  <thead>\n",
       "    <tr style=\"text-align: right;\">\n",
       "      <th></th>\n",
       "      <th>Road_Type</th>\n",
       "      <th>Speed_limit</th>\n",
       "      <th>Light_Conditions</th>\n",
       "      <th>Weather_Conditions</th>\n",
       "      <th>Road_Surface_Conditions</th>\n",
       "      <th>Urban_or_Rural_Area</th>\n",
       "      <th>Weekend</th>\n",
       "      <th>Night</th>\n",
       "      <th>Severity1</th>\n",
       "    </tr>\n",
       "  </thead>\n",
       "  <tbody>\n",
       "    <tr>\n",
       "      <th>235930</th>\n",
       "      <td>Single carriageway</td>\n",
       "      <td>60</td>\n",
       "      <td>Darkeness: No street lighting</td>\n",
       "      <td>Fine without high winds</td>\n",
       "      <td>Dry</td>\n",
       "      <td>1</td>\n",
       "      <td>0</td>\n",
       "      <td>0</td>\n",
       "      <td>1</td>\n",
       "    </tr>\n",
       "    <tr>\n",
       "      <th>348561</th>\n",
       "      <td>Single carriageway</td>\n",
       "      <td>30</td>\n",
       "      <td>Daylight: Street light present</td>\n",
       "      <td>Fine without high winds</td>\n",
       "      <td>Dry</td>\n",
       "      <td>2</td>\n",
       "      <td>1</td>\n",
       "      <td>0</td>\n",
       "      <td>1</td>\n",
       "    </tr>\n",
       "    <tr>\n",
       "      <th>62223</th>\n",
       "      <td>Single carriageway</td>\n",
       "      <td>30</td>\n",
       "      <td>Darkness: Street lights present and lit</td>\n",
       "      <td>Fine without high winds</td>\n",
       "      <td>Dry</td>\n",
       "      <td>2</td>\n",
       "      <td>0</td>\n",
       "      <td>0</td>\n",
       "      <td>1</td>\n",
       "    </tr>\n",
       "    <tr>\n",
       "      <th>446182</th>\n",
       "      <td>Single carriageway</td>\n",
       "      <td>50</td>\n",
       "      <td>Daylight: Street light present</td>\n",
       "      <td>Fine without high winds</td>\n",
       "      <td>Dry</td>\n",
       "      <td>2</td>\n",
       "      <td>0</td>\n",
       "      <td>0</td>\n",
       "      <td>1</td>\n",
       "    </tr>\n",
       "    <tr>\n",
       "      <th>336279</th>\n",
       "      <td>Dual carriageway</td>\n",
       "      <td>40</td>\n",
       "      <td>Darkness: Street lights present and lit</td>\n",
       "      <td>Fine without high winds</td>\n",
       "      <td>Dry</td>\n",
       "      <td>1</td>\n",
       "      <td>0</td>\n",
       "      <td>0</td>\n",
       "      <td>1</td>\n",
       "    </tr>\n",
       "  </tbody>\n",
       "</table>\n",
       "</div>"
      ],
      "text/plain": [
       "                 Road_Type  Speed_limit  \\\n",
       "235930  Single carriageway           60   \n",
       "348561  Single carriageway           30   \n",
       "62223   Single carriageway           30   \n",
       "446182  Single carriageway           50   \n",
       "336279    Dual carriageway           40   \n",
       "\n",
       "                               Light_Conditions       Weather_Conditions  \\\n",
       "235930            Darkeness: No street lighting  Fine without high winds   \n",
       "348561           Daylight: Street light present  Fine without high winds   \n",
       "62223   Darkness: Street lights present and lit  Fine without high winds   \n",
       "446182           Daylight: Street light present  Fine without high winds   \n",
       "336279  Darkness: Street lights present and lit  Fine without high winds   \n",
       "\n",
       "       Road_Surface_Conditions  Urban_or_Rural_Area  Weekend  Night  Severity1  \n",
       "235930                     Dry                    1        0      0          1  \n",
       "348561                     Dry                    2        1      0          1  \n",
       "62223                      Dry                    2        0      0          1  \n",
       "446182                     Dry                    2        0      0          1  \n",
       "336279                     Dry                    1        0      0          1  "
      ]
     },
     "execution_count": 21,
     "metadata": {},
     "output_type": "execute_result"
    }
   ],
   "source": [
    "accident_current.head(5)"
   ]
  },
  {
   "cell_type": "code",
   "execution_count": 22,
   "metadata": {},
   "outputs": [
    {
     "name": "stdout",
     "output_type": "stream",
     "text": [
      "[('Road_Type', 'string'), ('Speed_limit', 'bigint'), ('Light_Conditions', 'string'), ('Weather_Conditions', 'string'), ('Road_Surface_Conditions', 'string'), ('Urban_or_Rural_Area', 'bigint'), ('Weekend', 'bigint'), ('Night', 'bigint'), ('Severity1', 'bigint')]\n"
     ]
    }
   ],
   "source": [
    "s_df = spark.createDataFrame(accident_current)\n",
    "from pyspark.mllib.util import MLUtils\n",
    "from pyspark.mllib.regression import LabeledPoint\n",
    "\n",
    "s_df = s_df.na.drop()\n",
    "print(s_df.dtypes)"
   ]
  },
  {
   "cell_type": "code",
   "execution_count": 23,
   "metadata": {},
   "outputs": [],
   "source": [
    "from pyspark.ml import Pipeline\n",
    "from pyspark.ml.feature import StringIndexer, VectorAssembler\n",
    "from pyspark.ml.feature import OneHotEncoder\n",
    "from pyspark.ml import Transformer\n",
    "\n",
    "inputCols = [\"Road_Type\", \"Speed_limit\", \"Light_Conditions\", \"Weather_Conditions\", \"Road_Surface_Conditions\", \"Urban_or_Rural_Area\", \"Weekend\",\"Night\"]\n",
    "#Deal with Categorical Columns\n",
    "#Transform string type columns to string indexer \n",
    "roadtypeIndexer = StringIndexer().setInputCol(\"Road_Type\").setOutputCol(\"Road_TypeIndex\")\n",
    "speedIndexer = StringIndexer().setInputCol(\"Speed_limit\").setOutputCol(\"Speed_limitIndex\")\n",
    "lightIndexer = StringIndexer().setInputCol(\"Light_Conditions\").setOutputCol(\"Light_ConditionsIndex\")\n",
    "weatherIndexer = StringIndexer().setInputCol(\"Weather_Conditions\").setOutputCol(\"Weather_ConditionsIndex\")\n",
    "roadsurfaceIndexer = StringIndexer().setInputCol(\"Road_Surface_Conditions\").setOutputCol(\"Road_Surface_ConditionsIndex\")\n",
    "areaIndexer = StringIndexer().setInputCol(\"Urban_or_Rural_Area\").setOutputCol(\"Urban_or_Rural_AreaIndex\")\n",
    "weekendIndexer = StringIndexer().setInputCol(\"Weekend\").setOutputCol(\"WeekendIndex\")\n",
    "nightIndexer = StringIndexer().setInputCol(\"Night\").setOutputCol(\"NightIndex\")\n",
    "\n",
    "\n",
    "#Transform string type columns to string indexer \n",
    "roadtypeEncoder = OneHotEncoder().setInputCol(\"Road_TypeIndex\").setOutputCol(\"Road_Type_Vec\")\n",
    "speedEncoder = OneHotEncoder().setInputCol(\"Speed_limitIndex\").setOutputCol(\"Speed_limit_Vec\")\n",
    "lightEncoder = OneHotEncoder().setInputCol(\"Light_ConditionsIndex\").setOutputCol(\"Light_Conditions_Vec\")\n",
    "weatherEncoder = OneHotEncoder().setInputCol(\"Weather_ConditionsIndex\").setOutputCol(\"Weather_Conditions_Vec\")\n",
    "roadsurfaceEncoder = OneHotEncoder().setInputCol(\"Road_Surface_ConditionsIndex\").setOutputCol(\"Road_Surface_Conditions_Vec\")\n",
    "areaEncoder = OneHotEncoder().setInputCol(\"Urban_or_Rural_AreaIndex\").setOutputCol(\"Urban_or_Rural_Area_Vec\")\n",
    "weekendEncoder = OneHotEncoder().setInputCol(\"WeekendIndex\").setOutputCol(\"Weekend_Vec\")\n",
    "nightEncoder = OneHotEncoder().setInputCol(\"NightIndex\").setOutputCol(\"night_Vec\")\n",
    "\n",
    "\n",
    "#Assemble everything together to be (\"label\",\"features\") format\n",
    "assembler = VectorAssembler().setInputCols([\"Road_Type_Vec\", \"Speed_limit_Vec\", \"Light_Conditions_Vec\", \"Weather_Conditions_Vec\", \"Road_Surface_Conditions_Vec\",\n",
    "                                            \"Urban_or_Rural_Area_Vec\", \"Weekend_Vec\",\"night_Vec\"]).setOutputCol(\"features\")"
   ]
  },
  {
   "cell_type": "code",
   "execution_count": 24,
   "metadata": {},
   "outputs": [],
   "source": [
    "# Create models\n",
    "dt = DecisionTreeClassifier(labelCol='Severity1')\n",
    "rf = RandomForestClassifier(labelCol=\"Severity1\", numTrees=20)\n",
    "pipeline = Pipeline().setStages([roadtypeIndexer, speedIndexer, lightIndexer, weatherIndexer, roadsurfaceIndexer,areaIndexer, weekendIndexer,nightIndexer,\n",
    "                                 roadtypeEncoder, speedEncoder, lightEncoder, weatherEncoder, roadsurfaceEncoder,areaEncoder, weekendEncoder, nightEncoder, assembler])"
   ]
  },
  {
   "cell_type": "code",
   "execution_count": 25,
   "metadata": {},
   "outputs": [
    {
     "name": "stdout",
     "output_type": "stream",
     "text": [
      "root\n",
      " |-- Severity1: long (nullable = true)\n",
      " |-- features: vector (nullable = true)\n",
      "\n"
     ]
    }
   ],
   "source": [
    "# Train model. \n",
    "model_pip = pipeline.fit(s_df)\n",
    "t_df = model_pip.transform(s_df)\n",
    "selectedCols = ['Severity1', 'features']\n",
    "df = t_df.select(selectedCols)\n",
    "df.printSchema()\n",
    "(trainingData, testData) = df.randomSplit([0.7, 0.3])"
   ]
  },
  {
   "cell_type": "code",
   "execution_count": 26,
   "metadata": {},
   "outputs": [],
   "source": [
    "# decision tree classifier\n",
    "from pyspark.ml.classification import (RandomForestClassifier, GBTClassifier, DecisionTreeClassifier)\n",
    "dt = DecisionTreeClassifier(featuresCol = 'features', labelCol = 'Severity1', maxDepth = 3)\n",
    "dtModel = dt.fit(trainingData)\n",
    "dt_predictions = dtModel.transform(testData)"
   ]
  },
  {
   "cell_type": "code",
   "execution_count": 27,
   "metadata": {},
   "outputs": [],
   "source": [
    "# randomforest classifier\n",
    "rf = RandomForestClassifier(featuresCol = 'features', labelCol = 'Severity1', maxDepth = 3)\n",
    "rfModel = rf.fit(trainingData)\n",
    "rf_predictions = rfModel.transform(testData)"
   ]
  },
  {
   "cell_type": "code",
   "execution_count": 28,
   "metadata": {},
   "outputs": [
    {
     "name": "stdout",
     "output_type": "stream",
     "text": [
      "Test Area Under ROC: 0.6423915272610083\n"
     ]
    }
   ],
   "source": [
    "#decision tree\n",
    "from pyspark.ml.evaluation import BinaryClassificationEvaluator\n",
    "evaluator = BinaryClassificationEvaluator(labelCol = 'Severity1')\n",
    "print(\"Test Area Under ROC: \" + str(evaluator.evaluate(dt_predictions, {evaluator.metricName: \"areaUnderROC\"})))"
   ]
  },
  {
   "cell_type": "code",
   "execution_count": 29,
   "metadata": {},
   "outputs": [
    {
     "name": "stdout",
     "output_type": "stream",
     "text": [
      "Test Area Under ROC: 0.7128516773898523\n"
     ]
    }
   ],
   "source": [
    "#random forest\n",
    "print(\"Test Area Under ROC: \" + str(evaluator.evaluate(rf_predictions, {evaluator.metricName: \"areaUnderROC\"})))"
   ]
  },
  {
   "cell_type": "code",
   "execution_count": 30,
   "metadata": {},
   "outputs": [
    {
     "name": "stdout",
     "output_type": "stream",
     "text": [
      "+---------+--------------------+--------------------+--------------------+----------+\n",
      "|Severity1|            features|       rawPrediction|         probability|prediction|\n",
      "+---------+--------------------+--------------------+--------------------+----------+\n",
      "|        0|(27,[0,5,10,14,20...|[0.80167243986529...|[0.69033211851941...|       0.0|\n",
      "|        0|(27,[0,5,10,14,20...|[0.80167243986529...|[0.69033211851941...|       0.0|\n",
      "|        0|(27,[0,5,10,14,20...|[0.80167243986529...|[0.69033211851941...|       0.0|\n",
      "|        0|(27,[0,5,10,14,20...|[0.80167243986529...|[0.69033211851941...|       0.0|\n",
      "|        0|(27,[0,5,10,14,20...|[0.80167243986529...|[0.69033211851941...|       0.0|\n",
      "|        0|(27,[0,5,10,14,20...|[0.80167243986529...|[0.69033211851941...|       0.0|\n",
      "|        0|(27,[0,5,10,14,20...|[0.80167243986529...|[0.69033211851941...|       0.0|\n",
      "|        0|(27,[0,5,10,14,20...|[0.80167243986529...|[0.69033211851941...|       0.0|\n",
      "|        0|(27,[0,5,10,14,20...|[0.80167243986529...|[0.69033211851941...|       0.0|\n",
      "|        0|(27,[0,5,10,14,20...|[0.80167243986529...|[0.69033211851941...|       0.0|\n",
      "|        0|(27,[0,5,10,14,20...|[0.80167243986529...|[0.69033211851941...|       0.0|\n",
      "|        0|(27,[0,5,10,14,20...|[0.80167243986529...|[0.69033211851941...|       0.0|\n",
      "|        0|(27,[0,5,10,14,20...|[0.80167243986529...|[0.69033211851941...|       0.0|\n",
      "|        0|(27,[0,5,10,14,20...|[0.80167243986529...|[0.69033211851941...|       0.0|\n",
      "|        0|(27,[0,5,10,14,20...|[0.80167243986529...|[0.69033211851941...|       0.0|\n",
      "|        0|(27,[0,5,10,14,20...|[0.80167243986529...|[0.69033211851941...|       0.0|\n",
      "|        0|(27,[0,5,10,14,20...|[0.80167243986529...|[0.69033211851941...|       0.0|\n",
      "|        0|(27,[0,5,10,14,20...|[0.80167243986529...|[0.69033211851941...|       0.0|\n",
      "|        0|(27,[0,5,10,14,20...|[0.80167243986529...|[0.69033211851941...|       0.0|\n",
      "|        0|(27,[0,5,10,14,20...|[0.80167243986529...|[0.69033211851941...|       0.0|\n",
      "+---------+--------------------+--------------------+--------------------+----------+\n",
      "only showing top 20 rows\n",
      "\n"
     ]
    }
   ],
   "source": [
    "#logistic regression\n",
    "from pyspark.ml.classification import LogisticRegression\n",
    "\n",
    "lr = LogisticRegression(labelCol = 'Severity1')\n",
    "\n",
    "# Now we're fitting the model on a subset of data.\n",
    "lrModel = lr.fit(trainingData)\n",
    "\n",
    "# And evaluating it against the test data.\n",
    "lr_predictions = lrModel.evaluate(testData)\n",
    "\n",
    "lr_predictions.predictions.show()"
   ]
  },
  {
   "cell_type": "code",
   "execution_count": 31,
   "metadata": {},
   "outputs": [
    {
     "name": "stdout",
     "output_type": "stream",
     "text": [
      "Test Area Under ROC: 0.7235335178629889\n",
      "Multinomial coefficients: DenseMatrix([[ 0.034079  , -0.09825775, -1.54291771, -0.23551142, -1.0294194 ,\n",
      "               0.40742872,  1.66335162,  1.31674229,  1.15270748,  1.28377273,\n",
      "              -0.3848182 ,  0.18097202,  0.29267513, -0.34784512,  1.55568077,\n",
      "               1.05723266,  1.15262672,  1.84546779,  1.91443529,  1.73338286,\n",
      "              -0.20240205, -0.10707319, -0.45929637, -1.37773789, -0.43528326,\n",
      "              -0.21624804, -0.44526273]])\n",
      "Multinomial intercepts: [-1.114846663831627]\n",
      "objectiveHistory:\n",
      "0.6931354981572674\n",
      "0.6596065351653655\n",
      "0.6234022384054964\n",
      "0.6184728569261807\n",
      "0.6172958078311669\n",
      "0.6146587930336769\n",
      "0.6126405738737063\n",
      "0.6118401033917145\n",
      "0.6114733767471071\n",
      "0.6112916500349317\n",
      "0.6110312238966071\n",
      "0.6108697593223229\n",
      "0.6108158098173889\n",
      "0.6107784053745544\n",
      "0.6107557651935712\n",
      "0.6107271916721347\n",
      "0.610667899055513\n",
      "0.6105644110101057\n",
      "0.6104772149468729\n",
      "0.6103888674072765\n",
      "0.6102684774986034\n",
      "0.6101989324336773\n",
      "0.6100284058865827\n",
      "0.6100148651332804\n",
      "0.6099610780696854\n",
      "0.6099529825598793\n",
      "0.6099406796566368\n",
      "0.6099252725797902\n",
      "0.6099189541747757\n",
      "0.6099129789312426\n",
      "0.6099109221125794\n",
      "0.6099104983885746\n",
      "0.6099099511972286\n",
      "0.6099097714656571\n",
      "0.6099091767534449\n",
      "0.6099083382266434\n",
      "0.6099070503293138\n",
      "0.6099067939327694\n",
      "0.6099054511502908\n",
      "0.609905089546843\n",
      "0.6099045024248481\n",
      "0.6099028784100288\n",
      "0.6099007509175994\n",
      "0.6098956595168263\n",
      "0.6098859095108864\n",
      "0.6098757641168994\n",
      "0.6098648166705325\n",
      "0.6098501952365288\n",
      "0.609846134926477\n",
      "0.6098391942424644\n",
      "0.6098383684661193\n",
      "0.6098375616661714\n",
      "0.6098360195396738\n",
      "0.6098348011324773\n",
      "0.6098339759887091\n",
      "0.6098337586452801\n",
      "0.6098325274416052\n",
      "0.6098315233588586\n",
      "0.6098302442831192\n",
      "0.609828612597651\n",
      "0.6098231795694979\n",
      "0.6098189016806794\n",
      "0.6098165624459295\n",
      "0.6098134679330863\n",
      "0.6098101316137504\n",
      "0.609809470992503\n",
      "0.6098084769684987\n",
      "0.6098079824325003\n",
      "0.6098072121382312\n",
      "0.6098060108945356\n",
      "0.6098052958806723\n",
      "0.6098047463912113\n",
      "0.6098039123757918\n",
      "0.6098030125355166\n",
      "0.6098022674024464\n",
      "0.6098010165762857\n",
      "0.6098003813354561\n",
      "0.6097982931056123\n",
      "0.6097971735767278\n",
      "0.6097944070878527\n",
      "0.6097922222218399\n",
      "0.609789939878248\n",
      "0.6097880634543158\n",
      "0.6097876187978004\n",
      "0.609784597568847\n",
      "0.6097833494404405\n",
      "0.6097821519655153\n",
      "0.6097818340492035\n",
      "0.6097807204651828\n",
      "0.6097797682610478\n",
      "0.609779213809447\n",
      "0.6097779073484868\n",
      "0.6097773329917096\n",
      "0.6097757879648262\n",
      "0.6097743909610857\n",
      "0.6097703715910846\n",
      "0.6097615854800625\n",
      "0.6097459163360399\n",
      "0.6097451748747108\n",
      "0.6097292426151789\n",
      "0.6097230824666084\n",
      "+--------------------+--------------------+\n",
      "|                 FPR|                 TPR|\n",
      "+--------------------+--------------------+\n",
      "|                 0.0|                 0.0|\n",
      "|8.615738081562321E-4|0.003769754965927...|\n",
      "|0.002584721424468696| 0.01232419892706974|\n",
      "|0.003589890867317...| 0.01928374655647383|\n",
      "|0.005456634118322803|0.025518341307814992|\n",
      "|0.006318207926479035|0.028708133971291867|\n",
      "|0.011774842044801838| 0.05582137161084529|\n",
      "|0.019385410683515222| 0.09250398724082935|\n",
      "|0.020534175761056865| 0.09844860084094534|\n",
      "| 0.02311889718552556|  0.1017833840800348|\n",
      "|0.023980470993681793| 0.10482818616789909|\n",
      "|0.025416427340608845| 0.10903291286066406|\n",
      "|0.028288340034462952| 0.11990720603160794|\n",
      "|0.029724296381390007| 0.12469189502682326|\n",
      "| 0.03202182653647329| 0.13194142380745252|\n",
      "|  0.0376220562894888| 0.14948528345657533|\n",
      "| 0.04236071223434808| 0.16021458605190664|\n",
      "| 0.04250430786904078| 0.16383935044222125|\n",
      "| 0.05542791499138426| 0.20530665506742063|\n",
      "|0.058012636415852956| 0.21473104248223865|\n",
      "+--------------------+--------------------+\n",
      "only showing top 20 rows\n",
      "\n",
      "areaUnderROC: 0.7276177253102328\n"
     ]
    },
    {
     "data": {
      "text/plain": [
       "LogisticRegression_4658bae91e8bd324d4c6"
      ]
     },
     "execution_count": 31,
     "metadata": {},
     "output_type": "execute_result"
    }
   ],
   "source": [
    "print(\"Test Area Under ROC: \" + str(evaluator.evaluate(lr_predictions.predictions, {evaluator.metricName: \"areaUnderROC\"})))\n",
    "\n",
    "# Print the coefficients and intercepts for logistic regression with multinomial family\n",
    "print(\"Multinomial coefficients: \" + str(lrModel.coefficientMatrix))\n",
    "print(\"Multinomial intercepts: \" + str(lrModel.interceptVector))\n",
    "\n",
    "trainingSummary = lrModel.summary\n",
    "\n",
    "# Obtain the objective per iteration\n",
    "objectiveHistory = trainingSummary.objectiveHistory\n",
    "print(\"objectiveHistory:\")\n",
    "for objective in objectiveHistory:\n",
    "    print(objective)\n",
    "\n",
    "# Obtain the receiver-operating characteristic as a dataframe and areaUnderROC.\n",
    "trainingSummary.roc.show()\n",
    "print(\"areaUnderROC: \" + str(trainingSummary.areaUnderROC))\n",
    "\n",
    "# Set the model threshold to maximize F-Measure\n",
    "fMeasure = trainingSummary.fMeasureByThreshold\n",
    "maxFMeasure = fMeasure.groupBy().max('F-Measure').select('max(F-Measure)').head()\n",
    "bestThreshold = fMeasure.where(fMeasure['F-Measure'] == maxFMeasure['max(F-Measure)']) \\\n",
    "    .select('threshold').head()['threshold']\n",
    "lr.setThreshold(bestThreshold)"
   ]
  },
  {
   "cell_type": "code",
   "execution_count": 32,
   "metadata": {},
   "outputs": [
    {
     "data": {
      "text/plain": [
       "SparseVector(27, {0: 0.0291, 2: 0.0824, 5: 0.682, 10: 0.0975, 24: 0.109})"
      ]
     },
     "execution_count": 32,
     "metadata": {},
     "output_type": "execute_result"
    }
   ],
   "source": [
    "dtModel.featureImportances"
   ]
  },
  {
   "cell_type": "code",
   "execution_count": 33,
   "metadata": {},
   "outputs": [
    {
     "data": {
      "text/plain": [
       "SparseVector(27, {0: 0.0056, 1: 0.0083, 2: 0.0643, 3: 0.0005, 4: 0.0006, 5: 0.3202, 6: 0.2108, 7: 0.0054, 8: 0.0051, 9: 0.0002, 10: 0.039, 11: 0.0232, 12: 0.0771, 13: 0.0, 14: 0.0008, 15: 0.0017, 16: 0.0003, 18: 0.0002, 20: 0.0009, 22: 0.0001, 23: 0.0005, 24: 0.2151, 25: 0.0046, 26: 0.0155})"
      ]
     },
     "execution_count": 33,
     "metadata": {},
     "output_type": "execute_result"
    }
   ],
   "source": [
    "rfModel.featureImportances"
   ]
  },
  {
   "cell_type": "code",
   "execution_count": 34,
   "metadata": {},
   "outputs": [
    {
     "name": "stdout",
     "output_type": "stream",
     "text": [
      "GBT\n",
      "0.6778993149984056\n"
     ]
    }
   ],
   "source": [
    "from pyspark.ml.classification import GBTClassifier\n",
    "from pyspark.ml.evaluation import MulticlassClassificationEvaluator\n",
    "\n",
    "gbt = GBTClassifier(labelCol='Severity1',featuresCol='features')\n",
    "gbt_model = gbt.fit(trainingData)\n",
    "\n",
    "gbt_predictions = gbt_model.transform(testData)\n",
    "\n",
    "my_binary_gbt_eval = BinaryClassificationEvaluator(labelCol='Severity1', rawPredictionCol='prediction')\n",
    "print(\"GBT\")\n",
    "print(my_binary_gbt_eval.evaluate(gbt_predictions))\n",
    "\n"
   ]
  },
  {
   "cell_type": "code",
   "execution_count": null,
   "metadata": {},
   "outputs": [],
   "source": []
  }
 ],
 "metadata": {
  "kernelspec": {
   "display_name": "Python 3",
   "language": "python",
   "name": "python3"
  },
  "language_info": {
   "codemirror_mode": {
    "name": "ipython",
    "version": 3
   },
   "file_extension": ".py",
   "mimetype": "text/x-python",
   "name": "python",
   "nbconvert_exporter": "python",
   "pygments_lexer": "ipython3",
   "version": "3.5.2"
  }
 },
 "nbformat": 4,
 "nbformat_minor": 2
}
